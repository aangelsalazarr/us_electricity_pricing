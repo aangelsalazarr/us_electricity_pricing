{
 "cells": [
  {
   "cell_type": "code",
   "execution_count": 2,
   "id": "9e1ea590",
   "metadata": {},
   "outputs": [],
   "source": [
    "import polars as pl\n",
    "import seaborn as sns\n",
    "import matplotlib.pyplot as plt"
   ]
  },
  {
   "cell_type": "code",
   "execution_count": 4,
   "id": "9b9cb397",
   "metadata": {},
   "outputs": [],
   "source": [
    "# setting up notebook variables\n",
    "date_chosen = '2025-05-06'"
   ]
  },
  {
   "cell_type": "markdown",
   "id": "5fd7e8cc",
   "metadata": {},
   "source": [
    "Let's begin by setting up some quick stats on ERCOT and visuals!"
   ]
  },
  {
   "cell_type": "code",
   "execution_count": 8,
   "id": "4a49c76d",
   "metadata": {},
   "outputs": [],
   "source": [
    "# loading in ercot lmp data\n",
    "# next step will be to set up function to concat all datafiles and output as df here\n",
    "ercot_data=pl.read_csv(f'datasets/ercot_lmp_data/lmp_node_zone_hub_csv/{date_chosen}_lmp_node_zone_hub.csv')"
   ]
  },
  {
   "cell_type": "code",
   "execution_count": 9,
   "id": "76c1ae63",
   "metadata": {},
   "outputs": [
    {
     "data": {
      "text/html": [
       "<div><style>\n",
       ".dataframe > thead > tr,\n",
       ".dataframe > tbody > tr {\n",
       "  text-align: right;\n",
       "  white-space: pre-wrap;\n",
       "}\n",
       "</style>\n",
       "<small>shape: (9, 5)</small><table border=\"1\" class=\"dataframe\"><thead><tr><th>statistic</th><th>SCEDTimestamp</th><th>repeatHourFlag</th><th>settlementPoint</th><th>LMP</th></tr><tr><td>str</td><td>str</td><td>f64</td><td>str</td><td>f64</td></tr></thead><tbody><tr><td>&quot;count&quot;</td><td>&quot;291582&quot;</td><td>291582.0</td><td>&quot;291582&quot;</td><td>291582.0</td></tr><tr><td>&quot;null_count&quot;</td><td>&quot;0&quot;</td><td>0.0</td><td>&quot;0&quot;</td><td>0.0</td></tr><tr><td>&quot;mean&quot;</td><td>null</td><td>0.0</td><td>null</td><td>38.23923</td></tr><tr><td>&quot;std&quot;</td><td>null</td><td>null</td><td>null</td><td>64.982236</td></tr><tr><td>&quot;min&quot;</td><td>&quot;2025-05-06T00:00:14&quot;</td><td>0.0</td><td>&quot;7RNCHSLR_ALL&quot;</td><td>-5586.28</td></tr><tr><td>&quot;25%&quot;</td><td>null</td><td>null</td><td>null</td><td>18.01</td></tr><tr><td>&quot;50%&quot;</td><td>null</td><td>null</td><td>null</td><td>23.74</td></tr><tr><td>&quot;75%&quot;</td><td>null</td><td>null</td><td>null</td><td>37.52</td></tr><tr><td>&quot;max&quot;</td><td>&quot;2025-05-06T23:15:10&quot;</td><td>0.0</td><td>&quot;ZIER_SLR_ALL&quot;</td><td>5624.16</td></tr></tbody></table></div>"
      ],
      "text/plain": [
       "shape: (9, 5)\n",
       "┌────────────┬─────────────────────┬────────────────┬─────────────────┬───────────┐\n",
       "│ statistic  ┆ SCEDTimestamp       ┆ repeatHourFlag ┆ settlementPoint ┆ LMP       │\n",
       "│ ---        ┆ ---                 ┆ ---            ┆ ---             ┆ ---       │\n",
       "│ str        ┆ str                 ┆ f64            ┆ str             ┆ f64       │\n",
       "╞════════════╪═════════════════════╪════════════════╪═════════════════╪═══════════╡\n",
       "│ count      ┆ 291582              ┆ 291582.0       ┆ 291582          ┆ 291582.0  │\n",
       "│ null_count ┆ 0                   ┆ 0.0            ┆ 0               ┆ 0.0       │\n",
       "│ mean       ┆ null                ┆ 0.0            ┆ null            ┆ 38.23923  │\n",
       "│ std        ┆ null                ┆ null           ┆ null            ┆ 64.982236 │\n",
       "│ min        ┆ 2025-05-06T00:00:14 ┆ 0.0            ┆ 7RNCHSLR_ALL    ┆ -5586.28  │\n",
       "│ 25%        ┆ null                ┆ null           ┆ null            ┆ 18.01     │\n",
       "│ 50%        ┆ null                ┆ null           ┆ null            ┆ 23.74     │\n",
       "│ 75%        ┆ null                ┆ null           ┆ null            ┆ 37.52     │\n",
       "│ max        ┆ 2025-05-06T23:15:10 ┆ 0.0            ┆ ZIER_SLR_ALL    ┆ 5624.16   │\n",
       "└────────────┴─────────────────────┴────────────────┴─────────────────┴───────────┘"
      ]
     },
     "execution_count": 9,
     "metadata": {},
     "output_type": "execute_result"
    }
   ],
   "source": [
    "# quick info on data set\n",
    "ercot_data.describe()"
   ]
  },
  {
   "cell_type": "code",
   "execution_count": null,
   "id": "f009a3e1",
   "metadata": {},
   "outputs": [],
   "source": []
  }
 ],
 "metadata": {
  "kernelspec": {
   "display_name": "venv",
   "language": "python",
   "name": "python3"
  },
  "language_info": {
   "codemirror_mode": {
    "name": "ipython",
    "version": 3
   },
   "file_extension": ".py",
   "mimetype": "text/x-python",
   "name": "python",
   "nbconvert_exporter": "python",
   "pygments_lexer": "ipython3",
   "version": "3.11.8"
  }
 },
 "nbformat": 4,
 "nbformat_minor": 5
}
