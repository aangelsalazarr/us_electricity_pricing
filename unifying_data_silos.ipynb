{
 "cells": [
  {
   "cell_type": "markdown",
   "id": "7c0c2f04",
   "metadata": {},
   "source": [
    "Our task is simple: unify and standardize ISO data sets into 1 dataframe\n",
    "Here are the things we need to make sure we are doing:\n",
    "- converting any timestamps or time associated data columns to datetime\n",
    "- making sure that we are labeling where each sub data set comes from (e.g. ERCOT, SPP, etc.)\n",
    "- making sure that we are able to apply transformations to datasets in 2 phases\n",
    "    - phase 1: transformations on each ISO before merging to main df \n",
    "    - phase 2: transformations on the main df"
   ]
  },
  {
   "cell_type": "code",
   "execution_count": 2,
   "id": "3735ada6",
   "metadata": {},
   "outputs": [],
   "source": [
    "import pandas as pd\n",
    "import polars as pl\n",
    "import seaborn as sns\n",
    "import matplotlib.pyplot as plt\n",
    "import os\n",
    "from datetime import date, datetime, timedelta"
   ]
  },
  {
   "cell_type": "code",
   "execution_count": 3,
   "id": "ed482ac8",
   "metadata": {},
   "outputs": [
    {
     "name": "stdout",
     "output_type": "stream",
     "text": [
      "2025-05-14\n",
      "year string: 2025\n",
      "month string: 05\n",
      "day string: 14\n"
     ]
    }
   ],
   "source": [
    "# allows us to define a date and from that assemble correct path refs\n",
    "## today = date.today()  <-- only use this if you just pulled data today\n",
    "\n",
    "# defining our date\n",
    "today = \"2025-05-14\"  # should always be in the YYYY-MM-DD format\n",
    "\n",
    "year_str = str(today)[:4]\n",
    "month_str = str(today)[5:7]\n",
    "day_str = str(today)[-2:]\n",
    "\n",
    "\n",
    "print(today)\n",
    "print(f'year string: {year_str}')\n",
    "print(f'month string: {month_str}')\n",
    "print(f'day string: {day_str}')"
   ]
  },
  {
   "cell_type": "code",
   "execution_count": 6,
   "id": "c3170235",
   "metadata": {},
   "outputs": [],
   "source": [
    "# loading in data that we have pulled\n",
    "ercot_df = pd.read_csv(f'datasets/ercot_lmp_data/lmp_node_zone_hub_csv/{today}_lmp_node_zone_hub.csv')\n",
    "spp_df = pd.read_csv(f'datasets/spp_lmp_data/LMP_By_SETTLEMENT_LOC_csv/LMP_By_SETTLEMENT_LOC_{year_str}{month_str}{day_str}.csv')"
   ]
  }
 ],
 "metadata": {
  "kernelspec": {
   "display_name": "venv",
   "language": "python",
   "name": "python3"
  },
  "language_info": {
   "codemirror_mode": {
    "name": "ipython",
    "version": 3
   },
   "file_extension": ".py",
   "mimetype": "text/x-python",
   "name": "python",
   "nbconvert_exporter": "python",
   "pygments_lexer": "ipython3",
   "version": "3.11.8"
  }
 },
 "nbformat": 4,
 "nbformat_minor": 5
}
